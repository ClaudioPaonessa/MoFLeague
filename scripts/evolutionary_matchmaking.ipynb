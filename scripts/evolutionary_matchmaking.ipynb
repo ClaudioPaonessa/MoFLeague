{
 "cells": [
  {
   "cell_type": "code",
   "execution_count": 1,
   "id": "innocent-hazard",
   "metadata": {},
   "outputs": [],
   "source": [
    "import numpy as np\n",
    "import yaml\n",
    "import random\n",
    "import matplotlib.pyplot as plt"
   ]
  },
  {
   "cell_type": "code",
   "execution_count": 2,
   "id": "rational-shipping",
   "metadata": {},
   "outputs": [],
   "source": [
    "def transform_already_played_matches(ranking, already_played):\n",
    "    player_to_rank = {}\n",
    "\n",
    "    for rank, player in enumerate(ranking):\n",
    "        player_to_rank[player] = rank\n",
    "    \n",
    "    already_played_matches = []\n",
    "\n",
    "    for m in already_played:\n",
    "        p1 = player_to_rank[int(m.split(';')[0])]\n",
    "        p2 = player_to_rank[int(m.split(';')[1])]\n",
    "        \n",
    "        already_played_matches.append((p1, p2))\n",
    "    \n",
    "    return already_played_matches"
   ]
  },
  {
   "cell_type": "code",
   "execution_count": 3,
   "id": "gorgeous-arizona",
   "metadata": {},
   "outputs": [],
   "source": [
    "def matchmaking_matrix_to_matches(ranking, matchmaking_matrix):\n",
    "    rank_to_player = {}\n",
    "    \n",
    "    for rank, player in enumerate(ranking):\n",
    "        rank_to_player[rank] = player\n",
    "        \n",
    "    matches = []\n",
    "    \n",
    "    for p1 in range(matchmaking_matrix.shape[0]):\n",
    "        for p2 in range(matchmaking_matrix.shape[0]):\n",
    "            if matchmaking_matrix[p1, p2] == 1:\n",
    "                matches.append((rank_to_player[p1], rank_to_player[p2]))\n",
    "    \n",
    "    return matches"
   ]
  },
  {
   "cell_type": "code",
   "execution_count": 4,
   "id": "sporting-palace",
   "metadata": {},
   "outputs": [],
   "source": [
    "def create_already_played_matrix(player_count, already_played_matches):\n",
    "    already_played_matrix = np.zeros((player_count, player_count))\n",
    "    \n",
    "    for m in already_played_matches:\n",
    "        already_played_matrix[m[0], m[1]] += 1\n",
    "        already_played_matrix[m[1], m[0]] += 1\n",
    "    \n",
    "    return already_played_matrix"
   ]
  },
  {
   "cell_type": "code",
   "execution_count": 5,
   "id": "opened-tutorial",
   "metadata": {},
   "outputs": [],
   "source": [
    "def read_matchmaking_input(path):\n",
    "    with open(path) as file:\n",
    "        input_info = yaml.load(file, Loader=yaml.FullLoader)\n",
    "    \n",
    "    return input_info"
   ]
  },
  {
   "cell_type": "code",
   "execution_count": 6,
   "id": "adult-correspondence",
   "metadata": {},
   "outputs": [],
   "source": [
    "def create_ranking_distance_matrix(player_count):\n",
    "    ranking_distance_matrix = np.zeros((player_count, player_count), dtype=int)\n",
    "\n",
    "    for i in range(player_count):\n",
    "        for y in range(player_count):\n",
    "            ranking_distance_matrix[i, y] = abs(i-y)\n",
    "            ranking_distance_matrix[y, i] = abs(i-y)\n",
    "            \n",
    "    return ranking_distance_matrix"
   ]
  },
  {
   "cell_type": "code",
   "execution_count": 7,
   "id": "united-healing",
   "metadata": {},
   "outputs": [],
   "source": [
    "def calculate_already_played_score(matchmaking_matrix, already_played_matrix):\n",
    "    return int((matchmaking_matrix * already_played_matrix).sum())"
   ]
  },
  {
   "cell_type": "code",
   "execution_count": 8,
   "id": "liable-eagle",
   "metadata": {},
   "outputs": [],
   "source": [
    "def calculate_ranking_distance_score(matchmaking_matrix, ranking_distance_matrix):\n",
    "    return int((matchmaking_matrix * ranking_distance_matrix).sum())"
   ]
  },
  {
   "cell_type": "code",
   "execution_count": 9,
   "id": "headed-married",
   "metadata": {},
   "outputs": [],
   "source": [
    "def get_inital_matchmaking_matrix(path):\n",
    "    initial_matrix = np.load(path)\n",
    "\n",
    "    for p1 in range(initial_matrix.shape[0]):\n",
    "        for p2 in range(initial_matrix.shape[0]):\n",
    "            if p1 > p2:\n",
    "                initial_matrix[p1, p2] = 0\n",
    "                \n",
    "    return initial_matrix"
   ]
  },
  {
   "cell_type": "code",
   "execution_count": 10,
   "id": "bacterial-carolina",
   "metadata": {},
   "outputs": [],
   "source": [
    "def create_groups(player_count, group_size):\n",
    "    ranking = list(range(player_count))\n",
    "    c_group = 0\n",
    "    c_group_size = 0\n",
    "    groups = [[]]\n",
    "\n",
    "    for player in ranking:\n",
    "        c_group_size +=1\n",
    "        groups[c_group].append(player)\n",
    "\n",
    "        if c_group_size == group_size:\n",
    "            c_group_size = 0\n",
    "            c_group += 1\n",
    "\n",
    "            if player < player_count-1:\n",
    "                groups.append([])\n",
    "    \n",
    "    return groups"
   ]
  },
  {
   "cell_type": "code",
   "execution_count": 11,
   "id": "differential-specification",
   "metadata": {},
   "outputs": [],
   "source": [
    "def initialize_matchmaking_matrix(groups):\n",
    "    player_count = np.sum([len(g) for g in groups])\n",
    "    \n",
    "    matchmaking_matrix = np.zeros((player_count, player_count), dtype=int)\n",
    "    \n",
    "    for g in groups:\n",
    "        for p1 in g:\n",
    "            for p2 in g:                \n",
    "                if p1 < p2:\n",
    "                    matchmaking_matrix[p1, p2] = 1\n",
    "    \n",
    "    return matchmaking_matrix"
   ]
  },
  {
   "cell_type": "code",
   "execution_count": 12,
   "id": "systematic-evidence",
   "metadata": {},
   "outputs": [],
   "source": [
    "def get_non_group_matches(group_matchmaking_matrix, matchmaking_matrix):\n",
    "    non_group_matches = (group_matchmaking_matrix != 1) & (matchmaking_matrix == 1)\n",
    "    return np.argwhere(non_group_matches)"
   ]
  },
  {
   "cell_type": "code",
   "execution_count": 13,
   "id": "incorporate-bosnia",
   "metadata": {},
   "outputs": [],
   "source": [
    "def swap_if_first_is_bigger(arr):\n",
    "    arr_0 = arr[0]\n",
    "    arr_1 = arr[1]\n",
    "    \n",
    "    if arr_0 > arr_1:\n",
    "        tmp = arr_0\n",
    "        arr_0 = arr_1\n",
    "        arr_1 = tmp\n",
    "    \n",
    "    return (arr_0, arr_1)"
   ]
  },
  {
   "cell_type": "code",
   "execution_count": 14,
   "id": "domestic-commission",
   "metadata": {},
   "outputs": [],
   "source": [
    "def pick_two_random_non_overlapping_matches(matches, matchmaking_matrix):   \n",
    "    while True:\n",
    "        if len(matches) == 0:\n",
    "            print(matches, matchmaking_matrix)\n",
    "        \n",
    "        random_pick = random.choice(matches)\n",
    "\n",
    "        remaining_matches_idx = (matches[:,0] != random_pick[0]) & (matches[:,1] != random_pick[0]) & (matches[:,0] != random_pick[1]) & (matches[:,1] != random_pick[1])\n",
    "        remaining_matches = matches[remaining_matches_idx]\n",
    "\n",
    "        remaining_second_picks = []\n",
    "\n",
    "        for m in remaining_matches:\n",
    "            m1_p1, m1_p2 = swap_if_first_is_bigger(random_pick)\n",
    "            m2_p1, m2_p2 = swap_if_first_is_bigger(m)\n",
    "            \n",
    "            new_m1_p1, new_m1_p2 = swap_if_first_is_bigger([m1_p1, m2_p1])\n",
    "            new_m2_p1, new_m2_p2 = swap_if_first_is_bigger([m1_p2, m2_p2])\n",
    "\n",
    "            if (matchmaking_matrix[new_m1_p1, new_m1_p2] == 0) & (matchmaking_matrix[new_m2_p1, new_m2_p2] == 0):                \n",
    "                remaining_second_picks.append(([m1_p1, m1_p2], [m2_p1, m2_p2], [new_m1_p1, new_m1_p2], [new_m2_p1, new_m2_p2]))\n",
    "            \n",
    "            new_m1_p1, new_m1_p2 = swap_if_first_is_bigger([m1_p1, m2_p2])\n",
    "            new_m2_p1, new_m2_p2 = swap_if_first_is_bigger([m1_p2, m2_p1])\n",
    "            \n",
    "            if (matchmaking_matrix[new_m1_p1, new_m1_p2] == 0) & (matchmaking_matrix[new_m2_p1, new_m2_p2] == 0):                \n",
    "                remaining_second_picks.append(([m1_p1, m1_p2], [m2_p1, m2_p2], [new_m1_p1, new_m1_p2], [new_m2_p1, new_m2_p2]))\n",
    "\n",
    "        if len(remaining_second_picks) > 0:\n",
    "            pick = random.choice(remaining_second_picks)\n",
    "\n",
    "            return pick"
   ]
  },
  {
   "cell_type": "code",
   "execution_count": 15,
   "id": "shared-lotus",
   "metadata": {},
   "outputs": [],
   "source": [
    "def randomly_mutate_matchmaking(matchmaking_matrix, group_matchmaking_matrix):\n",
    "    matchmaking_matrix_copy = np.copy(matchmaking_matrix)\n",
    "    non_group_matches = get_non_group_matches(group_matchmaking_matrix, matchmaking_matrix)\n",
    "    \n",
    "    m1, m2, new_m1, new_m2 = pick_two_random_non_overlapping_matches(non_group_matches, matchmaking_matrix)\n",
    "    \n",
    "    matchmaking_matrix_copy[m1[0], m1[1]] = 0\n",
    "    matchmaking_matrix_copy[m2[0], m2[1]] = 0\n",
    "    \n",
    "    matchmaking_matrix_copy[new_m1[0], new_m1[1]] = 1\n",
    "    matchmaking_matrix_copy[new_m2[0], new_m2[1]] = 1\n",
    "    \n",
    "    return matchmaking_matrix_copy"
   ]
  },
  {
   "cell_type": "code",
   "execution_count": 16,
   "id": "assured-fraction",
   "metadata": {},
   "outputs": [],
   "source": [
    "def measure_generation(generation, already_played_matrix):\n",
    "    metrics = []\n",
    "    \n",
    "    for mm in generation:\n",
    "        metrics.append(calculate_already_played_score(mm, already_played_matrix))\n",
    "        \n",
    "    return metrics"
   ]
  },
  {
   "cell_type": "code",
   "execution_count": 17,
   "id": "extreme-stanford",
   "metadata": {},
   "outputs": [],
   "source": [
    "def measure_generation_ranking_distance(generation, ranking_distance_matrix):\n",
    "    metrics = []\n",
    "    \n",
    "    for mm in generation:\n",
    "        metrics.append(calculate_ranking_distance_score(mm, ranking_distance_matrix))\n",
    "        \n",
    "    return metrics"
   ]
  },
  {
   "cell_type": "code",
   "execution_count": 18,
   "id": "assigned-hands",
   "metadata": {},
   "outputs": [],
   "source": [
    "def get_top_n_matchmakings(generation, already_played_matrix, n):    \n",
    "    measured_mm = []\n",
    "    \n",
    "    for mm in generation:\n",
    "        measured_mm.append((calculate_already_played_score(mm, already_played_matrix), mm))\n",
    "    \n",
    "    measured_mm = sorted(measured_mm, key=lambda tup:tup[0])\n",
    "    \n",
    "    return [mm[1] for mm in measured_mm[:n]]"
   ]
  },
  {
   "cell_type": "code",
   "execution_count": 19,
   "id": "revised-funeral",
   "metadata": {},
   "outputs": [],
   "source": [
    "def check_if_already_exists(best_matchmakings, new_mm):\n",
    "    for mm in best_matchmakings:\n",
    "        comparison = mm == new_mm\n",
    "        if comparison.all():\n",
    "            return True\n",
    "    \n",
    "    return False"
   ]
  },
  {
   "cell_type": "markdown",
   "id": "institutional-ghana",
   "metadata": {},
   "source": [
    "# Start"
   ]
  },
  {
   "cell_type": "code",
   "execution_count": 40,
   "id": "digital-chamber",
   "metadata": {},
   "outputs": [],
   "source": [
    "input_info = read_matchmaking_input(r'matchmaking_input2.yml')"
   ]
  },
  {
   "cell_type": "code",
   "execution_count": 41,
   "id": "italic-argentina",
   "metadata": {},
   "outputs": [],
   "source": [
    "player_count = len(input_info['ranking'])\n",
    "group_size = input_info['group_size']"
   ]
  },
  {
   "cell_type": "code",
   "execution_count": 42,
   "id": "norman-motion",
   "metadata": {},
   "outputs": [],
   "source": [
    "ranking_distance_matrix = create_ranking_distance_matrix(player_count)"
   ]
  },
  {
   "cell_type": "code",
   "execution_count": 43,
   "id": "starting-presence",
   "metadata": {},
   "outputs": [],
   "source": [
    "already_played_matches = transform_already_played_matches(input_info['ranking'], input_info['already_played'])"
   ]
  },
  {
   "cell_type": "code",
   "execution_count": 44,
   "id": "committed-tunisia",
   "metadata": {},
   "outputs": [],
   "source": [
    "already_played_matrix = create_already_played_matrix(player_count, already_played_matches)"
   ]
  },
  {
   "cell_type": "code",
   "execution_count": 45,
   "id": "unauthorized-avenue",
   "metadata": {},
   "outputs": [],
   "source": [
    "groups = create_groups(player_count, group_size)"
   ]
  },
  {
   "cell_type": "code",
   "execution_count": 46,
   "id": "actual-raising",
   "metadata": {},
   "outputs": [],
   "source": [
    "group_matchmaking_matrix = initialize_matchmaking_matrix(groups)"
   ]
  },
  {
   "cell_type": "code",
   "execution_count": 47,
   "id": "engaging-church",
   "metadata": {},
   "outputs": [
    {
     "name": "stdout",
     "output_type": "stream",
     "text": [
      "8\n"
     ]
    }
   ],
   "source": [
    "print(calculate_already_played_score(group_matchmaking_matrix, already_played_matrix))"
   ]
  },
  {
   "cell_type": "code",
   "execution_count": 48,
   "id": "vietnamese-flush",
   "metadata": {},
   "outputs": [],
   "source": [
    "#initial_matrix_1 = get_inital_matchmaking_matrix(r'matchmaking_12\\8551642488702733955927625738021899162112150.npy')\n",
    "#initial_matrix_2 = get_inital_matchmaking_matrix(r'matchmaking_12\\9085031122769073757818832259676047196443670.npy')\n",
    "#initial_matrix_3 = get_inital_matchmaking_matrix(r'matchmaking_12\\9411722121750364303728292036614807439626510.npy')\n",
    "#initial_matrix_4 = get_inital_matchmaking_matrix(r'matchmaking_12\\10457219770216483406265979385486313366639630.npy')\n",
    "#initial_matrix_5 = get_inital_matchmaking_matrix(r'matchmaking_12\\10108437016143459162592009031721746985799830.npy')\n",
    "\n",
    "initial_matrix_1 = get_inital_matchmaking_matrix(r'matchmaking_9\\1079750504534497710381670.npy')\n",
    "initial_matrix_2 = get_inital_matchmaking_matrix(r'matchmaking_9\\1098603076977708845836902.npy')\n",
    "initial_matrix_3 = get_inital_matchmaking_matrix(r'matchmaking_9\\957181453519009891621526.npy')\n",
    "initial_matrix_4 = get_inital_matchmaking_matrix(r'matchmaking_9\\994969174314668763580958.npy')\n",
    "initial_matrix_5 = get_inital_matchmaking_matrix(r'matchmaking_9\\1004146641129666916407974.npy')\n",
    "\n",
    "initial_generation = [initial_matrix_1, initial_matrix_2, initial_matrix_3, initial_matrix_4, initial_matrix_5]\n",
    "\n",
    "new_mm = []\n",
    "\n",
    "for mm in initial_generation:\n",
    "    new_mm.append(randomly_mutate_matchmaking(mm, group_matchmaking_matrix))\n",
    "\n",
    "initial_generation += new_mm"
   ]
  },
  {
   "cell_type": "code",
   "execution_count": 49,
   "id": "seven-infrared",
   "metadata": {},
   "outputs": [],
   "source": [
    "mean_scores = []\n",
    "min_scores = []\n",
    "min_ranking_distances = []\n",
    "best_matchmakings_length = []\n",
    "best_matchmakings = []\n",
    "\n",
    "scores = measure_generation(initial_generation, already_played_matrix)\n",
    "min_score = np.min(scores)\n",
    "\n",
    "for idx, score in enumerate(scores):\n",
    "    if score == min_score:\n",
    "        if not check_if_already_exists(best_matchmakings, initial_generation[idx]):\n",
    "            best_matchmakings.append(initial_generation[idx])\n",
    "            \n",
    "ranking_distance_scores = measure_generation_ranking_distance(best_matchmakings, ranking_distance_matrix)\n",
    "min_ranking_distance = np.min(ranking_distance_scores)\n",
    "\n",
    "current_generation = initial_generation\n",
    "\n",
    "for generation in range(5000):\n",
    "    scores = measure_generation(current_generation, already_played_matrix)\n",
    "    ranking_distance_scores = measure_generation_ranking_distance(current_generation, ranking_distance_matrix)\n",
    "    \n",
    "    mean_scores.append(np.mean(scores))\n",
    "    min_scores.append(min_score)\n",
    "    min_ranking_distances.append(min_ranking_distance)\n",
    "    best_matchmakings_length.append(len(best_matchmakings))\n",
    "    \n",
    "    if np.min(scores) < min_score:\n",
    "        best_matchmakings = []\n",
    "        min_score = np.min(scores)\n",
    "        \n",
    "    for idx, score in enumerate(scores):\n",
    "        if score == min_score:\n",
    "            if ranking_distance_scores[idx] < min_ranking_distance:\n",
    "                min_ranking_distance = ranking_distance_scores[idx]\n",
    "                best_matchmakings = []\n",
    "            \n",
    "            if not check_if_already_exists(best_matchmakings, current_generation[idx]):\n",
    "                if ranking_distance_scores[idx] == min_ranking_distance:\n",
    "                    best_matchmakings.append(current_generation[idx])\n",
    "    \n",
    "    top = get_top_n_matchmakings(current_generation, already_played_matrix, n=6)\n",
    "    \n",
    "    current_generation = top[:2]\n",
    "    \n",
    "    for i in range(2,6):\n",
    "        current_generation.append(randomly_mutate_matchmaking(top[i], group_matchmaking_matrix))\n",
    "        current_generation.append(randomly_mutate_matchmaking(top[i], group_matchmaking_matrix))"
   ]
  },
  {
   "cell_type": "code",
   "execution_count": 50,
   "id": "animal-constant",
   "metadata": {},
   "outputs": [
    {
     "data": {
      "image/png": "[encoded data removed]",
      "text/plain": [
       "<Figure size 432x288 with 1 Axes>"
      ]
     },
     "metadata": {
      "needs_background": "light"
     },
     "output_type": "display_data"
    }
   ],
   "source": [
    "fig, ax = plt.subplots()\n",
    "_ = ax.plot(mean_scores)"
   ]
  },
  {
   "cell_type": "code",
   "execution_count": 51,
   "id": "spatial-effectiveness",
   "metadata": {},
   "outputs": [
    {
     "data": {
      "image/png": "[encoded data removed]",
      "text/plain": [
       "<Figure size 432x288 with 1 Axes>"
      ]
     },
     "metadata": {
      "needs_background": "light"
     },
     "output_type": "display_data"
    }
   ],
   "source": [
    "fig, ax = plt.subplots()\n",
    "_ = ax.plot(mean_scores[:20])"
   ]
  },
  {
   "cell_type": "code",
   "execution_count": 52,
   "id": "cheap-geneva",
   "metadata": {},
   "outputs": [
    {
     "data": {
      "image/png": "[encoded data removed]",
      "text/plain": [
       "<Figure size 432x288 with 1 Axes>"
      ]
     },
     "metadata": {
      "needs_background": "light"
     },
     "output_type": "display_data"
    }
   ],
   "source": [
    "fig, ax = plt.subplots()\n",
    "_ = ax.plot(min_scores)"
   ]
  },
  {
   "cell_type": "code",
   "execution_count": 53,
   "id": "joint-asbestos",
   "metadata": {},
   "outputs": [
    {
     "data": {
      "image/png": "[encoded data removed]",
      "text/plain": [
       "<Figure size 432x288 with 1 Axes>"
      ]
     },
     "metadata": {
      "needs_background": "light"
     },
     "output_type": "display_data"
    }
   ],
   "source": [
    "fig, ax = plt.subplots()\n",
    "_ = ax.plot(min_ranking_distances)"
   ]
  },
  {
   "cell_type": "code",
   "execution_count": 58,
   "id": "attractive-cricket",
   "metadata": {},
   "outputs": [
    {
     "data": {
      "image/png": "[encoded data removed]",
      "text/plain": [
       "<Figure size 432x288 with 1 Axes>"
      ]
     },
     "metadata": {
      "needs_background": "light"
     },
     "output_type": "display_data"
    }
   ],
   "source": [
    "fig, ax = plt.subplots()\n",
    "_ = ax.plot(min_ranking_distances[:50])"
   ]
  },
  {
   "cell_type": "code",
   "execution_count": 54,
   "id": "distant-delaware",
   "metadata": {},
   "outputs": [
    {
     "data": {
      "image/png": "[encoded data removed]",
      "text/plain": [
       "<Figure size 432x288 with 1 Axes>"
      ]
     },
     "metadata": {
      "needs_background": "light"
     },
     "output_type": "display_data"
    }
   ],
   "source": [
    "fig, ax = plt.subplots()\n",
    "_ = ax.plot(best_matchmakings_length)\n",
    "\n",
    "_ = ax.set_xlabel('Generation')\n",
    "_ = ax.set_ylabel('Unique matchmakings with smallest score')"
   ]
  },
  {
   "cell_type": "code",
   "execution_count": 59,
   "id": "gentle-lebanon",
   "metadata": {},
   "outputs": [
    {
     "name": "stdout",
     "output_type": "stream",
     "text": [
      "Min already played score: 14\n",
      "Min ranking distance: 44\n"
     ]
    }
   ],
   "source": [
    "print(f'Min already played score: {min_score}')\n",
    "print(f'Min ranking distance: {min_ranking_distance}')"
   ]
  },
  {
   "cell_type": "code",
   "execution_count": 60,
   "id": "tender-selling",
   "metadata": {},
   "outputs": [],
   "source": [
    "selected_mm = random.choice(best_matchmakings)"
   ]
  },
  {
   "cell_type": "code",
   "execution_count": 61,
   "id": "monthly-azerbaijan",
   "metadata": {},
   "outputs": [
    {
     "name": "stdout",
     "output_type": "stream",
     "text": [
      "[[0 1 1 0 1 0 0 0 1]\n",
      " [0 0 1 1 0 0 1 0 0]\n",
      " [0 0 0 1 0 0 0 1 0]\n",
      " [0 0 0 0 1 1 0 0 0]\n",
      " [0 0 0 0 0 1 1 0 0]\n",
      " [0 0 0 0 0 0 0 1 1]\n",
      " [0 0 0 0 0 0 0 1 1]\n",
      " [0 0 0 0 0 0 0 0 1]\n",
      " [0 0 0 0 0 0 0 0 0]]\n"
     ]
    }
   ],
   "source": [
    "print(selected_mm)"
   ]
  },
  {
   "cell_type": "code",
   "execution_count": 62,
   "id": "prostate-effectiveness",
   "metadata": {},
   "outputs": [],
   "source": [
    "new_matches = matchmaking_matrix_to_matches(input_info['ranking'], selected_mm)"
   ]
  },
  {
   "cell_type": "code",
   "execution_count": 63,
   "id": "sound-title",
   "metadata": {},
   "outputs": [
    {
     "name": "stdout",
     "output_type": "stream",
     "text": [
      "6;14\n",
      "6;1\n",
      "6;10\n",
      "6;5\n",
      "14;1\n",
      "14;2\n",
      "14;8\n",
      "1;2\n",
      "1;4\n",
      "2;10\n",
      "2;11\n",
      "10;11\n",
      "10;8\n",
      "11;4\n",
      "11;5\n",
      "8;4\n",
      "8;5\n",
      "4;5\n"
     ]
    }
   ],
   "source": [
    "for m in new_matches:\n",
    "    print(f'{m[0]};{m[1]}')"
   ]
  },
  {
   "cell_type": "code",
   "execution_count": null,
   "id": "recorded-warner",
   "metadata": {},
   "outputs": [],
   "source": []
  }
 ],
 "metadata": {
  "kernelspec": {
   "display_name": "local-venv",
   "language": "python",
   "name": "local-venv"
  },
  "language_info": {
   "codemirror_mode": {
    "name": "ipython",
    "version": 3
   },
   "file_extension": ".py",
   "mimetype": "text/x-python",
   "name": "python",
   "nbconvert_exporter": "python",
   "pygments_lexer": "ipython3",
   "version": "3.8.8"
  }
 },
 "nbformat": 4,
 "nbformat_minor": 5
}
