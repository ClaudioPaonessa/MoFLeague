{
 "cells": [
  {
   "cell_type": "code",
   "execution_count": 1,
   "id": "numeric-canada",
   "metadata": {},
   "outputs": [],
   "source": [
    "import numpy as np\n",
    "import yaml\n",
    "import random\n",
    "import itertools\n",
    "import os"
   ]
  },
  {
   "cell_type": "code",
   "execution_count": 2,
   "id": "young-batman",
   "metadata": {},
   "outputs": [],
   "source": [
    "def create_player_dict(ranking):\n",
    "    player_dict = {}\n",
    "    player_ids = []\n",
    "\n",
    "    for idx, pid in enumerate(ranking):\n",
    "        player_dict[pid] = idx\n",
    "        player_ids.append(pid)\n",
    "        \n",
    "    return player_dict, player_ids"
   ]
  },
  {
   "cell_type": "code",
   "execution_count": 3,
   "id": "falling-awareness",
   "metadata": {},
   "outputs": [],
   "source": [
    "def create_ranking_distance_matrix(player_count):\n",
    "    ranking_distance_matrix = np.zeros((player_count, player_count), dtype=int)\n",
    "\n",
    "    for i in range(player_count):\n",
    "        for y in range(player_count):\n",
    "            ranking_distance_matrix[i, y] = abs(i-y)\n",
    "            ranking_distance_matrix[y, i] = abs(i-y)\n",
    "            \n",
    "    return ranking_distance_matrix"
   ]
  },
  {
   "cell_type": "code",
   "execution_count": 4,
   "id": "super-puzzle",
   "metadata": {},
   "outputs": [],
   "source": [
    "def create_already_played_matrix(player_count, completed_matches):\n",
    "    already_played_matrix = np.zeros((player_count, player_count), dtype=int)\n",
    "\n",
    "    if completed_matches is not None:\n",
    "        for m in completed_matches:\n",
    "            p1, p2 = m.strip().split(';', maxsplit=2)\n",
    "            p1 = int(p1.strip())\n",
    "            p2 = int(p2.strip())\n",
    "\n",
    "            already_played_matrix[player_dict[p1], player_dict[p2]] += 1\n",
    "            already_played_matrix[player_dict[p2], player_dict[p1]] += 1\n",
    "            \n",
    "    return already_played_matrix"
   ]
  },
  {
   "cell_type": "code",
   "execution_count": 5,
   "id": "quantitative-fisher",
   "metadata": {
    "tags": []
   },
   "outputs": [],
   "source": [
    "def create_groups(player_count, group_size):\n",
    "    ranking = list(range(player_count))\n",
    "    c_group = 0\n",
    "    c_group_size = 0\n",
    "    groups = [[]]\n",
    "\n",
    "    for player in ranking:\n",
    "        c_group_size +=1\n",
    "        groups[c_group].append(player)\n",
    "\n",
    "        if c_group_size == group_size:\n",
    "            c_group_size = 0\n",
    "            c_group += 1\n",
    "\n",
    "            if player < player_count-1:\n",
    "                groups.append([])\n",
    "    \n",
    "    return groups"
   ]
  },
  {
   "cell_type": "code",
   "execution_count": 6,
   "id": "sticky-canberra",
   "metadata": {},
   "outputs": [],
   "source": [
    "def initialize_matchmaking_matrix(player_count, groups):\n",
    "    matchmaking_matrix = np.zeros((player_count, player_count), dtype=int)\n",
    "    fixed_group_matches = 0\n",
    "    \n",
    "    for g in groups:\n",
    "        for p1 in g:\n",
    "            for p2 in g:                \n",
    "                if p1 != p2:\n",
    "                    matchmaking_matrix[p1, p2] = 1\n",
    "                \n",
    "                if p1 < p2:\n",
    "                    fixed_group_matches += 1\n",
    "    \n",
    "    return matchmaking_matrix, fixed_group_matches"
   ]
  },
  {
   "cell_type": "code",
   "execution_count": 7,
   "id": "balanced-toronto",
   "metadata": {},
   "outputs": [],
   "source": [
    "def get_possible_opponents(matchmaking_matrix):\n",
    "    player_count = matchmaking_matrix.shape[0]\n",
    "    possible_opponents = []\n",
    "    \n",
    "    for i in range(player_count):\n",
    "        possible_opponents.append([])\n",
    "        \n",
    "    for p1 in range(player_count):\n",
    "        for p2 in range(player_count):\n",
    "            if p1 != p2:\n",
    "                if matchmaking_matrix[p1, p2] == 0:\n",
    "                    possible_opponents[p1].append(p2)\n",
    "    \n",
    "    return possible_opponents"
   ]
  },
  {
   "cell_type": "code",
   "execution_count": 8,
   "id": "looking-clerk",
   "metadata": {},
   "outputs": [],
   "source": [
    "def get_possible_matches(matchmaking_matrix):\n",
    "    player_count = matchmaking_matrix.shape[0]\n",
    "    possible_matches = []\n",
    "        \n",
    "    for p1 in range(player_count):\n",
    "        for p2 in range(player_count):\n",
    "            if p1 < p2:\n",
    "                if matchmaking_matrix[p1, p2] == 0:\n",
    "                    possible_matches.append((p1, p2))\n",
    "    \n",
    "    return possible_matches"
   ]
  },
  {
   "cell_type": "code",
   "execution_count": 9,
   "id": "closed-spain",
   "metadata": {},
   "outputs": [],
   "source": [
    "def get_player_match_count(matchmaking_matrix):\n",
    "    return matchmaking_matrix.sum(axis=0)"
   ]
  },
  {
   "cell_type": "code",
   "execution_count": 10,
   "id": "aggressive-england",
   "metadata": {},
   "outputs": [],
   "source": [
    "def calculate_duplicate_matchmaking_rating(match_making_matrix, already_played_matrix):\n",
    "    return int((already_played_matrix * match_making_matrix).sum() / 2)"
   ]
  },
  {
   "cell_type": "code",
   "execution_count": 11,
   "id": "varied-brook",
   "metadata": {},
   "outputs": [],
   "source": [
    "def calculate_distance_rating(match_making_matrix, ranking_distance_matrix):\n",
    "    return int((ranking_distance_matrix * match_making_matrix).sum() / 2)"
   ]
  },
  {
   "cell_type": "code",
   "execution_count": 12,
   "id": "willing-ecology",
   "metadata": {},
   "outputs": [],
   "source": [
    "def check_if_still_possible(player_match_count, possible_opponents, matches_per_round):\n",
    "    possible_opponents_count = [len(possible_opponents) for p in possible_opponents]\n",
    "    \n",
    "    open_opponents_diff = np.array(possible_opponents_count) - (matches_per_round - np.array(player_match_count))\n",
    "    \n",
    "    not_enough_open_possibilities = np.min(open_opponents_diff) < 0\n",
    "    to_much_matches = np.max(player_match_count) > matches_per_round\n",
    "    \n",
    "    return (not not_enough_open_possibilities) & (not to_much_matches)"
   ]
  },
  {
   "cell_type": "code",
   "execution_count": 13,
   "id": "brilliant-leave",
   "metadata": {},
   "outputs": [],
   "source": [
    "input_path = r'matchmaking_input2.yml'\n",
    "\n",
    "with open(input_path) as file:\n",
    "    input_info = yaml.load(file, Loader=yaml.FullLoader)"
   ]
  },
  {
   "cell_type": "code",
   "execution_count": 14,
   "id": "minor-friday",
   "metadata": {},
   "outputs": [],
   "source": [
    "player_dict, player_ids = create_player_dict(input_info['ranking'])\n",
    "\n",
    "player_count = len(player_dict)\n",
    "group_size = input_info['group_size']\n",
    "matches_per_round = input_info['matches_per_round']\n",
    "already_played = 0 if input_info[\"already_played\"] is None else len(input_info[\"already_played\"])"
   ]
  },
  {
   "cell_type": "code",
   "execution_count": 15,
   "id": "sweet-tracy",
   "metadata": {},
   "outputs": [
    {
     "name": "stdout",
     "output_type": "stream",
     "text": [
      "9 Players\n",
      "Ranking (account ids): [6, 14, 1, 2, 10, 11, 8, 4, 5]\n",
      "--------\n",
      "Group size: 3\n",
      "Matches per round: 4\n",
      "Already played matches: 36\n"
     ]
    }
   ],
   "source": [
    "print(f'{player_count} Players\\nRanking (account ids): {list(player_dict.keys())}\\n--------')\n",
    "print(f'Group size: {group_size}\\nMatches per round: {matches_per_round}\\nAlready played matches: {already_played}')"
   ]
  },
  {
   "cell_type": "code",
   "execution_count": 16,
   "id": "three-directive",
   "metadata": {},
   "outputs": [],
   "source": [
    "ranking_distance_matrix = create_ranking_distance_matrix(player_count)\n",
    "already_played_matrix = create_already_played_matrix(player_count, input_info['already_played'])"
   ]
  },
  {
   "cell_type": "code",
   "execution_count": 17,
   "id": "coordinate-nickel",
   "metadata": {},
   "outputs": [
    {
     "name": "stdout",
     "output_type": "stream",
     "text": [
      "Ranking distances matrix:\n",
      "[[0 1 2 3 4 5 6 7 8]\n",
      " [1 0 1 2 3 4 5 6 7]\n",
      " [2 1 0 1 2 3 4 5 6]\n",
      " [3 2 1 0 1 2 3 4 5]\n",
      " [4 3 2 1 0 1 2 3 4]\n",
      " [5 4 3 2 1 0 1 2 3]\n",
      " [6 5 4 3 2 1 0 1 2]\n",
      " [7 6 5 4 3 2 1 0 1]\n",
      " [8 7 6 5 4 3 2 1 0]]\n",
      "\n",
      "Already played matrix:\n",
      "[[0 1 1 2 0 1 1 1 1]\n",
      " [1 0 1 1 1 1 1 1 1]\n",
      " [1 1 0 0 2 2 1 0 1]\n",
      " [2 1 0 0 1 0 1 2 1]\n",
      " [0 1 2 1 0 1 1 1 1]\n",
      " [1 1 2 0 1 0 1 1 1]\n",
      " [1 1 1 1 1 1 0 1 1]\n",
      " [1 1 0 2 1 1 1 0 1]\n",
      " [1 1 1 1 1 1 1 1 0]]\n"
     ]
    }
   ],
   "source": [
    "print(f'Ranking distances matrix:\\n{ranking_distance_matrix}\\n')\n",
    "print(f'Already played matrix:\\n{already_played_matrix}')"
   ]
  },
  {
   "cell_type": "markdown",
   "id": "respiratory-vessel",
   "metadata": {},
   "source": [
    "## Groups"
   ]
  },
  {
   "cell_type": "code",
   "execution_count": 18,
   "id": "complimentary-bahrain",
   "metadata": {},
   "outputs": [],
   "source": [
    "groups = create_groups(player_count, group_size)"
   ]
  },
  {
   "cell_type": "code",
   "execution_count": 19,
   "id": "conceptual-transmission",
   "metadata": {},
   "outputs": [
    {
     "name": "stdout",
     "output_type": "stream",
     "text": [
      "[[0, 1, 2], [3, 4, 5], [6, 7, 8]]\n"
     ]
    }
   ],
   "source": [
    "print(groups)"
   ]
  },
  {
   "cell_type": "code",
   "execution_count": 20,
   "id": "bigger-origin",
   "metadata": {},
   "outputs": [],
   "source": [
    "matchmaking_matrix, fixed_group_matches = initialize_matchmaking_matrix(player_count, groups)\n",
    "possible_matches = get_possible_matches(matchmaking_matrix)\n",
    "open_match_count = int((player_count * matches_per_round / 2) - fixed_group_matches)"
   ]
  },
  {
   "cell_type": "code",
   "execution_count": 21,
   "id": "wrong-creator",
   "metadata": {
    "tags": []
   },
   "outputs": [
    {
     "name": "stdout",
     "output_type": "stream",
     "text": [
      "Initial matchmaking matrix (group matches):\n",
      "[[0 1 1 0 0 0 0 0 0]\n",
      " [1 0 1 0 0 0 0 0 0]\n",
      " [1 1 0 0 0 0 0 0 0]\n",
      " [0 0 0 0 1 1 0 0 0]\n",
      " [0 0 0 1 0 1 0 0 0]\n",
      " [0 0 0 1 1 0 0 0 0]\n",
      " [0 0 0 0 0 0 0 1 1]\n",
      " [0 0 0 0 0 0 1 0 1]\n",
      " [0 0 0 0 0 0 1 1 0]]\n",
      "\n",
      "Possible open matches [27]:\n",
      "[(0, 3), (0, 4), (0, 5), (0, 6), (0, 7), (0, 8), (1, 3), (1, 4), (1, 5), (1, 6), (1, 7), (1, 8), (2, 3), (2, 4), (2, 5), (2, 6), (2, 7), (2, 8), (3, 6), (3, 7), (3, 8), (4, 6), (4, 7), (4, 8), (5, 6), (5, 7), (5, 8)]\n",
      "\n",
      "Fixed group matches: 9, Open match count: 9\n"
     ]
    }
   ],
   "source": [
    "print(f'Initial matchmaking matrix (group matches):\\n{matchmaking_matrix}\\n')\n",
    "print(f'Possible open matches [{len(possible_matches)}]:\\n{possible_matches}\\n')\n",
    "print(f'Fixed group matches: {fixed_group_matches}, Open match count: {open_match_count}')"
   ]
  },
  {
   "cell_type": "code",
   "execution_count": 22,
   "id": "nuclear-mississippi",
   "metadata": {},
   "outputs": [],
   "source": [
    "initial_player_matches = get_player_match_count(matchmaking_matrix)"
   ]
  },
  {
   "cell_type": "code",
   "execution_count": 23,
   "id": "chicken-suspect",
   "metadata": {},
   "outputs": [
    {
     "name": "stdout",
     "output_type": "stream",
     "text": [
      "Initial player matches: [2 2 2 2 2 2 2 2 2]\n"
     ]
    }
   ],
   "source": [
    "print(f'Initial player matches: {initial_player_matches}')"
   ]
  },
  {
   "cell_type": "code",
   "execution_count": 24,
   "id": "suited-knife",
   "metadata": {},
   "outputs": [],
   "source": [
    "initial_duplicate_matchmaking_rating = calculate_duplicate_matchmaking_rating(matchmaking_matrix, already_played_matrix)"
   ]
  },
  {
   "cell_type": "code",
   "execution_count": 25,
   "id": "advisory-remark",
   "metadata": {},
   "outputs": [
    {
     "name": "stdout",
     "output_type": "stream",
     "text": [
      "Initial duplicate matchmaking rating: 8\n"
     ]
    }
   ],
   "source": [
    "print(f'Initial duplicate matchmaking rating: {initial_duplicate_matchmaking_rating}')"
   ]
  },
  {
   "cell_type": "markdown",
   "id": "hispanic-suffering",
   "metadata": {},
   "source": [
    "## Tree traversation"
   ]
  },
  {
   "cell_type": "code",
   "execution_count": 26,
   "id": "twenty-sequence",
   "metadata": {},
   "outputs": [],
   "source": [
    "def is_partially_possible(matchmaking_matrix):\n",
    "    new_player_match_count = get_player_match_count(matchmaking_matrix)\n",
    "    new_possible_opponents = get_possible_opponents(matchmaking_matrix)\n",
    "    \n",
    "    return check_if_still_possible(new_player_match_count, new_possible_opponents, matches_per_round)"
   ]
  },
  {
   "cell_type": "code",
   "execution_count": 27,
   "id": "narrow-mexican",
   "metadata": {},
   "outputs": [],
   "source": [
    "def get_random_matches(matchmaking_matrix, open_match_count):\n",
    "    while True:\n",
    "        mm_matrix = matchmaking_matrix.copy()\n",
    "        \n",
    "        for i in range(open_match_count):\n",
    "            possible_matches = get_possible_matches(mm_matrix)\n",
    "            \n",
    "            if len(possible_matches) == 0:\n",
    "                break\n",
    "            \n",
    "            p_id, o_id = random.choice(possible_matches)\n",
    "            \n",
    "            mm_matrix[p_id, o_id] = 1\n",
    "            mm_matrix[o_id, p_id] = 1\n",
    "            \n",
    "            if not is_partially_possible(mm_matrix):\n",
    "                break\n",
    "            elif i == open_match_count-1:\n",
    "                return mm_matrix"
   ]
  },
  {
   "cell_type": "code",
   "execution_count": 28,
   "id": "blond-fleece",
   "metadata": {},
   "outputs": [
    {
     "ename": "KeyboardInterrupt",
     "evalue": "",
     "output_type": "error",
     "traceback": [
      "\u001b[1;31m---------------------------------------------------------------------------\u001b[0m",
      "\u001b[1;31mKeyboardInterrupt\u001b[0m                         Traceback (most recent call last)",
      "\u001b[1;32m<ipython-input-28-6ed2f59496dd>\u001b[0m in \u001b[0;36m<module>\u001b[1;34m\u001b[0m\n\u001b[0;32m      2\u001b[0m \u001b[1;33m\u001b[0m\u001b[0m\n\u001b[0;32m      3\u001b[0m \u001b[1;32mfor\u001b[0m \u001b[0mi\u001b[0m \u001b[1;32min\u001b[0m \u001b[0mrange\u001b[0m\u001b[1;33m(\u001b[0m\u001b[1;36m100\u001b[0m\u001b[1;33m)\u001b[0m\u001b[1;33m:\u001b[0m\u001b[1;33m\u001b[0m\u001b[1;33m\u001b[0m\u001b[0m\n\u001b[1;32m----> 4\u001b[1;33m     \u001b[0mmm\u001b[0m \u001b[1;33m=\u001b[0m \u001b[0mget_random_matches\u001b[0m\u001b[1;33m(\u001b[0m\u001b[0mmatchmaking_matrix\u001b[0m\u001b[1;33m,\u001b[0m \u001b[0mopen_match_count\u001b[0m\u001b[1;33m)\u001b[0m\u001b[1;33m\u001b[0m\u001b[1;33m\u001b[0m\u001b[0m\n\u001b[0m\u001b[0;32m      5\u001b[0m     \u001b[0mmm_id\u001b[0m \u001b[1;33m=\u001b[0m \u001b[0mint\u001b[0m\u001b[1;33m(\u001b[0m\u001b[1;34m''\u001b[0m\u001b[1;33m.\u001b[0m\u001b[0mjoin\u001b[0m\u001b[1;33m(\u001b[0m\u001b[0mmm\u001b[0m\u001b[1;33m.\u001b[0m\u001b[0mravel\u001b[0m\u001b[1;33m(\u001b[0m\u001b[1;33m)\u001b[0m\u001b[1;33m.\u001b[0m\u001b[0mastype\u001b[0m\u001b[1;33m(\u001b[0m\u001b[0mdtype\u001b[0m\u001b[1;33m=\u001b[0m\u001b[1;34m'str'\u001b[0m\u001b[1;33m)\u001b[0m\u001b[1;33m)\u001b[0m\u001b[1;33m,\u001b[0m \u001b[1;36m2\u001b[0m\u001b[1;33m)\u001b[0m\u001b[1;33m\u001b[0m\u001b[1;33m\u001b[0m\u001b[0m\n\u001b[0;32m      6\u001b[0m     \u001b[0msave_path\u001b[0m \u001b[1;33m=\u001b[0m \u001b[0mos\u001b[0m\u001b[1;33m.\u001b[0m\u001b[0mpath\u001b[0m\u001b[1;33m.\u001b[0m\u001b[0mjoin\u001b[0m\u001b[1;33m(\u001b[0m\u001b[0mfolder\u001b[0m\u001b[1;33m,\u001b[0m \u001b[1;34mf'{mm_id}.npy'\u001b[0m\u001b[1;33m)\u001b[0m\u001b[1;33m\u001b[0m\u001b[1;33m\u001b[0m\u001b[0m\n",
      "\u001b[1;32m<ipython-input-27-0fea6df243c8>\u001b[0m in \u001b[0;36mget_random_matches\u001b[1;34m(matchmaking_matrix, open_match_count)\u001b[0m\n\u001b[0;32m     14\u001b[0m             \u001b[0mmm_matrix\u001b[0m\u001b[1;33m[\u001b[0m\u001b[0mo_id\u001b[0m\u001b[1;33m,\u001b[0m \u001b[0mp_id\u001b[0m\u001b[1;33m]\u001b[0m \u001b[1;33m=\u001b[0m \u001b[1;36m1\u001b[0m\u001b[1;33m\u001b[0m\u001b[1;33m\u001b[0m\u001b[0m\n\u001b[0;32m     15\u001b[0m \u001b[1;33m\u001b[0m\u001b[0m\n\u001b[1;32m---> 16\u001b[1;33m             \u001b[1;32mif\u001b[0m \u001b[1;32mnot\u001b[0m \u001b[0mis_partially_possible\u001b[0m\u001b[1;33m(\u001b[0m\u001b[0mmm_matrix\u001b[0m\u001b[1;33m)\u001b[0m\u001b[1;33m:\u001b[0m\u001b[1;33m\u001b[0m\u001b[1;33m\u001b[0m\u001b[0m\n\u001b[0m\u001b[0;32m     17\u001b[0m                 \u001b[1;32mbreak\u001b[0m\u001b[1;33m\u001b[0m\u001b[1;33m\u001b[0m\u001b[0m\n\u001b[0;32m     18\u001b[0m             \u001b[1;32melif\u001b[0m \u001b[0mi\u001b[0m \u001b[1;33m==\u001b[0m \u001b[0mopen_match_count\u001b[0m\u001b[1;33m-\u001b[0m\u001b[1;36m1\u001b[0m\u001b[1;33m:\u001b[0m\u001b[1;33m\u001b[0m\u001b[1;33m\u001b[0m\u001b[0m\n",
      "\u001b[1;32m<ipython-input-26-3a44d8472362>\u001b[0m in \u001b[0;36mis_partially_possible\u001b[1;34m(matchmaking_matrix)\u001b[0m\n\u001b[0;32m      3\u001b[0m     \u001b[0mnew_possible_opponents\u001b[0m \u001b[1;33m=\u001b[0m \u001b[0mget_possible_opponents\u001b[0m\u001b[1;33m(\u001b[0m\u001b[0mmatchmaking_matrix\u001b[0m\u001b[1;33m)\u001b[0m\u001b[1;33m\u001b[0m\u001b[1;33m\u001b[0m\u001b[0m\n\u001b[0;32m      4\u001b[0m \u001b[1;33m\u001b[0m\u001b[0m\n\u001b[1;32m----> 5\u001b[1;33m     \u001b[1;32mreturn\u001b[0m \u001b[0mcheck_if_still_possible\u001b[0m\u001b[1;33m(\u001b[0m\u001b[0mnew_player_match_count\u001b[0m\u001b[1;33m,\u001b[0m \u001b[0mnew_possible_opponents\u001b[0m\u001b[1;33m,\u001b[0m \u001b[0mmatches_per_round\u001b[0m\u001b[1;33m)\u001b[0m\u001b[1;33m\u001b[0m\u001b[1;33m\u001b[0m\u001b[0m\n\u001b[0m",
      "\u001b[1;32m<ipython-input-12-814b6bce527a>\u001b[0m in \u001b[0;36mcheck_if_still_possible\u001b[1;34m(player_match_count, possible_opponents, matches_per_round)\u001b[0m\n\u001b[0;32m      4\u001b[0m     \u001b[0mopen_opponents_diff\u001b[0m \u001b[1;33m=\u001b[0m \u001b[0mnp\u001b[0m\u001b[1;33m.\u001b[0m\u001b[0marray\u001b[0m\u001b[1;33m(\u001b[0m\u001b[0mpossible_opponents_count\u001b[0m\u001b[1;33m)\u001b[0m \u001b[1;33m-\u001b[0m \u001b[1;33m(\u001b[0m\u001b[0mmatches_per_round\u001b[0m \u001b[1;33m-\u001b[0m \u001b[0mnp\u001b[0m\u001b[1;33m.\u001b[0m\u001b[0marray\u001b[0m\u001b[1;33m(\u001b[0m\u001b[0mplayer_match_count\u001b[0m\u001b[1;33m)\u001b[0m\u001b[1;33m)\u001b[0m\u001b[1;33m\u001b[0m\u001b[1;33m\u001b[0m\u001b[0m\n\u001b[0;32m      5\u001b[0m \u001b[1;33m\u001b[0m\u001b[0m\n\u001b[1;32m----> 6\u001b[1;33m     \u001b[0mnot_enough_open_possibilities\u001b[0m \u001b[1;33m=\u001b[0m \u001b[0mnp\u001b[0m\u001b[1;33m.\u001b[0m\u001b[0mmin\u001b[0m\u001b[1;33m(\u001b[0m\u001b[0mopen_opponents_diff\u001b[0m\u001b[1;33m)\u001b[0m \u001b[1;33m<\u001b[0m \u001b[1;36m0\u001b[0m\u001b[1;33m\u001b[0m\u001b[1;33m\u001b[0m\u001b[0m\n\u001b[0m\u001b[0;32m      7\u001b[0m     \u001b[0mto_much_matches\u001b[0m \u001b[1;33m=\u001b[0m \u001b[0mnp\u001b[0m\u001b[1;33m.\u001b[0m\u001b[0mmax\u001b[0m\u001b[1;33m(\u001b[0m\u001b[0mplayer_match_count\u001b[0m\u001b[1;33m)\u001b[0m \u001b[1;33m>\u001b[0m \u001b[0mmatches_per_round\u001b[0m\u001b[1;33m\u001b[0m\u001b[1;33m\u001b[0m\u001b[0m\n\u001b[0;32m      8\u001b[0m \u001b[1;33m\u001b[0m\u001b[0m\n",
      "\u001b[1;32m<__array_function__ internals>\u001b[0m in \u001b[0;36mamin\u001b[1;34m(*args, **kwargs)\u001b[0m\n",
      "\u001b[1;32mf:\\python\\virtual\\ml\\lib\\site-packages\\numpy\\core\\fromnumeric.py\u001b[0m in \u001b[0;36mamin\u001b[1;34m(a, axis, out, keepdims, initial, where)\u001b[0m\n\u001b[0;32m   2828\u001b[0m     \u001b[1;36m6\u001b[0m\u001b[1;33m\u001b[0m\u001b[1;33m\u001b[0m\u001b[0m\n\u001b[0;32m   2829\u001b[0m     \"\"\"\n\u001b[1;32m-> 2830\u001b[1;33m     return _wrapreduction(a, np.minimum, 'min', axis, None, out,\n\u001b[0m\u001b[0;32m   2831\u001b[0m                           keepdims=keepdims, initial=initial, where=where)\n\u001b[0;32m   2832\u001b[0m \u001b[1;33m\u001b[0m\u001b[0m\n",
      "\u001b[1;32mf:\\python\\virtual\\ml\\lib\\site-packages\\numpy\\core\\fromnumeric.py\u001b[0m in \u001b[0;36m_wrapreduction\u001b[1;34m(obj, ufunc, method, axis, dtype, out, **kwargs)\u001b[0m\n\u001b[0;32m     85\u001b[0m                 \u001b[1;32mreturn\u001b[0m \u001b[0mreduction\u001b[0m\u001b[1;33m(\u001b[0m\u001b[0maxis\u001b[0m\u001b[1;33m=\u001b[0m\u001b[0maxis\u001b[0m\u001b[1;33m,\u001b[0m \u001b[0mout\u001b[0m\u001b[1;33m=\u001b[0m\u001b[0mout\u001b[0m\u001b[1;33m,\u001b[0m \u001b[1;33m**\u001b[0m\u001b[0mpasskwargs\u001b[0m\u001b[1;33m)\u001b[0m\u001b[1;33m\u001b[0m\u001b[1;33m\u001b[0m\u001b[0m\n\u001b[0;32m     86\u001b[0m \u001b[1;33m\u001b[0m\u001b[0m\n\u001b[1;32m---> 87\u001b[1;33m     \u001b[1;32mreturn\u001b[0m \u001b[0mufunc\u001b[0m\u001b[1;33m.\u001b[0m\u001b[0mreduce\u001b[0m\u001b[1;33m(\u001b[0m\u001b[0mobj\u001b[0m\u001b[1;33m,\u001b[0m \u001b[0maxis\u001b[0m\u001b[1;33m,\u001b[0m \u001b[0mdtype\u001b[0m\u001b[1;33m,\u001b[0m \u001b[0mout\u001b[0m\u001b[1;33m,\u001b[0m \u001b[1;33m**\u001b[0m\u001b[0mpasskwargs\u001b[0m\u001b[1;33m)\u001b[0m\u001b[1;33m\u001b[0m\u001b[1;33m\u001b[0m\u001b[0m\n\u001b[0m\u001b[0;32m     88\u001b[0m \u001b[1;33m\u001b[0m\u001b[0m\n\u001b[0;32m     89\u001b[0m \u001b[1;33m\u001b[0m\u001b[0m\n",
      "\u001b[1;31mKeyboardInterrupt\u001b[0m: "
     ]
    }
   ],
   "source": [
    "folder = r'F:\\Magic\\MoFLeague\\scripts\\matchmaking_9'\n",
    "\n",
    "for i in range(100):\n",
    "    mm = get_random_matches(matchmaking_matrix, open_match_count)\n",
    "    mm_id = int(''.join(mm.ravel().astype(dtype='str')), 2)\n",
    "    save_path = os.path.join(folder, f'{mm_id}.npy')\n",
    "    \n",
    "    if not os.path.isfile(save_path):\n",
    "        np.save(save_path, mm)"
   ]
  },
  {
   "cell_type": "code",
   "execution_count": 39,
   "id": "prostate-institution",
   "metadata": {},
   "outputs": [
    {
     "data": {
      "text/plain": [
       "3"
      ]
     },
     "execution_count": 39,
     "metadata": {},
     "output_type": "execute_result"
    }
   ],
   "source": [
    "calculate_duplicate_matchmaking_rating(mm, already_played_matrix)"
   ]
  },
  {
   "cell_type": "code",
   "execution_count": 43,
   "id": "pending-numbers",
   "metadata": {},
   "outputs": [
    {
     "data": {
      "text/plain": [
       "76"
      ]
     },
     "execution_count": 43,
     "metadata": {},
     "output_type": "execute_result"
    }
   ],
   "source": [
    "calculate_distance_rating(mm, ranking_distance_matrix)"
   ]
  },
  {
   "cell_type": "code",
   "execution_count": 47,
   "id": "desirable-enemy",
   "metadata": {},
   "outputs": [
    {
     "name": "stdout",
     "output_type": "stream",
     "text": [
      "011000010010101000001010110110000000001011001000001101100000000110000101000010011100100000101001010100110000000001100011110000000101000001010110\n",
      "8464198008663929798607344352599424981028950\n"
     ]
    }
   ],
   "source": [
    "binary_string = ''.join(mm.ravel().astype(dtype='str'))\n",
    "print(binary_string)\n",
    "print(int(binary_string, 2))"
   ]
  },
  {
   "cell_type": "code",
   "execution_count": 35,
   "id": "other-season",
   "metadata": {},
   "outputs": [
    {
     "data": {
      "text/plain": [
       "array([[0, 1, 1, 0, 0, 0, 0, 1, 0, 1, 0, 0],\n",
       "       [1, 0, 1, 0, 0, 0, 1, 0, 1, 0, 0, 0],\n",
       "       [1, 1, 0, 0, 0, 1, 0, 0, 0, 0, 1, 0],\n",
       "       [0, 0, 0, 0, 1, 1, 1, 1, 0, 0, 0, 0],\n",
       "       [0, 0, 0, 1, 0, 1, 0, 0, 0, 0, 1, 1],\n",
       "       [0, 0, 1, 1, 1, 0, 0, 0, 0, 0, 0, 1],\n",
       "       [0, 1, 0, 1, 0, 0, 0, 1, 1, 0, 0, 0],\n",
       "       [1, 0, 0, 1, 0, 0, 1, 0, 1, 0, 0, 0],\n",
       "       [0, 1, 0, 0, 0, 0, 1, 1, 0, 1, 0, 0],\n",
       "       [1, 0, 0, 0, 0, 0, 0, 0, 1, 0, 1, 1],\n",
       "       [0, 0, 1, 0, 1, 0, 0, 0, 0, 1, 0, 1],\n",
       "       [0, 0, 0, 0, 1, 1, 0, 0, 0, 1, 1, 0]])"
      ]
     },
     "execution_count": 35,
     "metadata": {},
     "output_type": "execute_result"
    }
   ],
   "source": [
    "mm"
   ]
  },
  {
   "cell_type": "code",
   "execution_count": 37,
   "id": "close-celtic",
   "metadata": {},
   "outputs": [
    {
     "data": {
      "text/plain": [
       "array([[0, 1, 1, 0, 0, 0, 0, 1, 0, 0, 1, 0],\n",
       "       [1, 0, 1, 0, 0, 0, 0, 0, 1, 0, 1, 0],\n",
       "       [1, 1, 0, 1, 1, 0, 0, 0, 0, 0, 0, 0],\n",
       "       [0, 0, 1, 0, 1, 1, 0, 0, 1, 0, 0, 0],\n",
       "       [0, 0, 1, 1, 0, 1, 1, 0, 0, 0, 0, 0],\n",
       "       [0, 0, 0, 1, 1, 0, 0, 0, 0, 1, 0, 1],\n",
       "       [0, 0, 0, 0, 1, 0, 0, 1, 1, 1, 0, 0],\n",
       "       [1, 0, 0, 0, 0, 0, 1, 0, 1, 0, 0, 1],\n",
       "       [0, 1, 0, 1, 0, 0, 1, 1, 0, 0, 0, 0],\n",
       "       [0, 0, 0, 0, 0, 1, 1, 0, 0, 0, 1, 1],\n",
       "       [1, 1, 0, 0, 0, 0, 0, 0, 0, 1, 0, 1],\n",
       "       [0, 0, 0, 0, 0, 1, 0, 1, 0, 1, 1, 0]])"
      ]
     },
     "execution_count": 37,
     "metadata": {},
     "output_type": "execute_result"
    }
   ],
   "source": [
    "mm"
   ]
  },
  {
   "cell_type": "code",
   "execution_count": 63,
   "id": "forbidden-newspaper",
   "metadata": {},
   "outputs": [],
   "source": [
    "def get_random_combination(matchmaking_matrix, possible_opponents):\n",
    "    mm_matrix = matchmaking_matrix.copy()\n",
    "    \n",
    "    while True:\n",
    "        selected_matches = []\n",
    "        \n",
    "        for p_id in range(len(possible_opponents)):\n",
    "            o_id = random.choice(possible_opponents[p_id])\n",
    "            selected_matches.append(o_id)\n",
    "\n",
    "            if not is_partially_possible(selected_matches, mm_matrix):\n",
    "                break\n",
    "            elif p_id == matchmaking_matrix.shape[0]-1:\n",
    "                return selected_matches"
   ]
  },
  {
   "cell_type": "code",
   "execution_count": 65,
   "id": "standard-relevance",
   "metadata": {},
   "outputs": [
    {
     "name": "stdout",
     "output_type": "stream",
     "text": [
      "[3, 5, 11, 1, 10, 8, 9, 0, 4, 7, 2, 6]\n",
      "[5, 9, 8, 0, 11, 7, 10, 3, 1, 4, 2, 6]\n",
      "[5, 3, 11, 2, 8, 9, 4, 1, 10, 6, 7, 0]\n"
     ]
    },
    {
     "ename": "KeyboardInterrupt",
     "evalue": "",
     "output_type": "error",
     "traceback": [
      "\u001b[1;31m---------------------------------------------------------------------------\u001b[0m",
      "\u001b[1;31mKeyboardInterrupt\u001b[0m                         Traceback (most recent call last)",
      "\u001b[1;32m<ipython-input-65-73d48c010449>\u001b[0m in \u001b[0;36m<module>\u001b[1;34m\u001b[0m\n\u001b[0;32m      1\u001b[0m \u001b[1;32mfor\u001b[0m \u001b[0mi\u001b[0m \u001b[1;32min\u001b[0m \u001b[0mrange\u001b[0m\u001b[1;33m(\u001b[0m\u001b[1;36m10\u001b[0m\u001b[1;33m)\u001b[0m\u001b[1;33m:\u001b[0m\u001b[1;33m\u001b[0m\u001b[1;33m\u001b[0m\u001b[0m\n\u001b[1;32m----> 2\u001b[1;33m     \u001b[0mprint\u001b[0m\u001b[1;33m(\u001b[0m\u001b[0mget_random_combination\u001b[0m\u001b[1;33m(\u001b[0m\u001b[0mmatchmaking_matrix\u001b[0m\u001b[1;33m,\u001b[0m \u001b[0mpossible_opponents\u001b[0m\u001b[1;33m)\u001b[0m\u001b[1;33m)\u001b[0m\u001b[1;33m\u001b[0m\u001b[1;33m\u001b[0m\u001b[0m\n\u001b[0m",
      "\u001b[1;32m<ipython-input-63-e82acfc37ee0>\u001b[0m in \u001b[0;36mget_random_combination\u001b[1;34m(matchmaking_matrix, possible_opponents)\u001b[0m\n\u001b[0;32m      9\u001b[0m             \u001b[0mselected_matches\u001b[0m\u001b[1;33m.\u001b[0m\u001b[0mappend\u001b[0m\u001b[1;33m(\u001b[0m\u001b[0mo_id\u001b[0m\u001b[1;33m)\u001b[0m\u001b[1;33m\u001b[0m\u001b[1;33m\u001b[0m\u001b[0m\n\u001b[0;32m     10\u001b[0m \u001b[1;33m\u001b[0m\u001b[0m\n\u001b[1;32m---> 11\u001b[1;33m             \u001b[1;32mif\u001b[0m \u001b[1;32mnot\u001b[0m \u001b[0mis_partially_possible\u001b[0m\u001b[1;33m(\u001b[0m\u001b[0mselected_matches\u001b[0m\u001b[1;33m,\u001b[0m \u001b[0mmm_matrix\u001b[0m\u001b[1;33m)\u001b[0m\u001b[1;33m:\u001b[0m\u001b[1;33m\u001b[0m\u001b[1;33m\u001b[0m\u001b[0m\n\u001b[0m\u001b[0;32m     12\u001b[0m                 \u001b[1;32mbreak\u001b[0m\u001b[1;33m\u001b[0m\u001b[1;33m\u001b[0m\u001b[0m\n\u001b[0;32m     13\u001b[0m             \u001b[1;32melif\u001b[0m \u001b[0mp_id\u001b[0m \u001b[1;33m==\u001b[0m \u001b[0mmatchmaking_matrix\u001b[0m\u001b[1;33m.\u001b[0m\u001b[0mshape\u001b[0m\u001b[1;33m[\u001b[0m\u001b[1;36m0\u001b[0m\u001b[1;33m]\u001b[0m\u001b[1;33m-\u001b[0m\u001b[1;36m1\u001b[0m\u001b[1;33m:\u001b[0m\u001b[1;33m\u001b[0m\u001b[1;33m\u001b[0m\u001b[0m\n",
      "\u001b[1;32m<ipython-input-58-9b5e9de183dc>\u001b[0m in \u001b[0;36mis_partially_possible\u001b[1;34m(selected_matches, matchmaking_matrix)\u001b[0m\n\u001b[0;32m      1\u001b[0m \u001b[1;32mdef\u001b[0m \u001b[0mis_partially_possible\u001b[0m\u001b[1;33m(\u001b[0m\u001b[0mselected_matches\u001b[0m\u001b[1;33m,\u001b[0m \u001b[0mmatchmaking_matrix\u001b[0m\u001b[1;33m)\u001b[0m\u001b[1;33m:\u001b[0m\u001b[1;33m\u001b[0m\u001b[1;33m\u001b[0m\u001b[0m\n\u001b[1;32m----> 2\u001b[1;33m     \u001b[0mmm_matrix\u001b[0m \u001b[1;33m=\u001b[0m \u001b[0mmatchmaking_matrix\u001b[0m\u001b[1;33m.\u001b[0m\u001b[0mcopy\u001b[0m\u001b[1;33m(\u001b[0m\u001b[1;33m)\u001b[0m\u001b[1;33m\u001b[0m\u001b[1;33m\u001b[0m\u001b[0m\n\u001b[0m\u001b[0;32m      3\u001b[0m     \u001b[1;32mfor\u001b[0m \u001b[0mp_id\u001b[0m\u001b[1;33m,\u001b[0m \u001b[0mo_id\u001b[0m \u001b[1;32min\u001b[0m \u001b[0menumerate\u001b[0m\u001b[1;33m(\u001b[0m\u001b[0mselected_matches\u001b[0m\u001b[1;33m)\u001b[0m\u001b[1;33m:\u001b[0m\u001b[1;33m\u001b[0m\u001b[1;33m\u001b[0m\u001b[0m\n\u001b[0;32m      4\u001b[0m         \u001b[1;32mif\u001b[0m \u001b[0mmm_matrix\u001b[0m\u001b[1;33m[\u001b[0m\u001b[0mp_id\u001b[0m\u001b[1;33m,\u001b[0m \u001b[0mo_id\u001b[0m\u001b[1;33m]\u001b[0m \u001b[1;33m==\u001b[0m \u001b[1;36m1\u001b[0m\u001b[1;33m:\u001b[0m\u001b[1;33m\u001b[0m\u001b[1;33m\u001b[0m\u001b[0m\n\u001b[0;32m      5\u001b[0m             \u001b[1;32mreturn\u001b[0m \u001b[1;32mFalse\u001b[0m\u001b[1;33m\u001b[0m\u001b[1;33m\u001b[0m\u001b[0m\n",
      "\u001b[1;31mKeyboardInterrupt\u001b[0m: "
     ]
    }
   ],
   "source": [
    "for i in range(10):\n",
    "    print(get_random_combination(matchmaking_matrix, possible_opponents))"
   ]
  },
  {
   "cell_type": "code",
   "execution_count": 24,
   "id": "addressed-insider",
   "metadata": {},
   "outputs": [],
   "source": [
    "pools = [tuple(pool) for pool in possible_opponents]"
   ]
  },
  {
   "cell_type": "code",
   "execution_count": 25,
   "id": "respected-enzyme",
   "metadata": {},
   "outputs": [
    {
     "data": {
      "text/plain": [
       "[(3, 4, 5, 6, 7, 8, 9, 10, 11),\n",
       " (3, 4, 5, 6, 7, 8, 9, 10, 11),\n",
       " (3, 4, 5, 6, 7, 8, 9, 10, 11),\n",
       " (0, 1, 2, 6, 7, 8, 9, 10, 11),\n",
       " (0, 1, 2, 6, 7, 8, 9, 10, 11),\n",
       " (0, 1, 2, 6, 7, 8, 9, 10, 11),\n",
       " (0, 1, 2, 3, 4, 5, 9, 10, 11),\n",
       " (0, 1, 2, 3, 4, 5, 9, 10, 11),\n",
       " (0, 1, 2, 3, 4, 5, 9, 10, 11),\n",
       " (0, 1, 2, 3, 4, 5, 6, 7, 8),\n",
       " (0, 1, 2, 3, 4, 5, 6, 7, 8),\n",
       " (0, 1, 2, 3, 4, 5, 6, 7, 8)]"
      ]
     },
     "execution_count": 25,
     "metadata": {},
     "output_type": "execute_result"
    }
   ],
   "source": [
    "pools"
   ]
  },
  {
   "cell_type": "code",
   "execution_count": 50,
   "id": "administrative-constant",
   "metadata": {},
   "outputs": [
    {
     "ename": "KeyboardInterrupt",
     "evalue": "",
     "output_type": "error",
     "traceback": [
      "\u001b[1;31m---------------------------------------------------------------------------\u001b[0m",
      "\u001b[1;31mKeyboardInterrupt\u001b[0m                         Traceback (most recent call last)",
      "\u001b[1;32m<ipython-input-50-4e2af2458ad4>\u001b[0m in \u001b[0;36m<module>\u001b[1;34m\u001b[0m\n\u001b[0;32m      4\u001b[0m \u001b[1;33m\u001b[0m\u001b[0m\n\u001b[0;32m      5\u001b[0m \u001b[1;32mfor\u001b[0m \u001b[0mpool\u001b[0m \u001b[1;32min\u001b[0m \u001b[0mpools\u001b[0m\u001b[1;33m[\u001b[0m\u001b[1;33m:\u001b[0m\u001b[1;36m7\u001b[0m\u001b[1;33m]\u001b[0m\u001b[1;33m:\u001b[0m\u001b[1;33m\u001b[0m\u001b[1;33m\u001b[0m\u001b[0m\n\u001b[1;32m----> 6\u001b[1;33m     \u001b[0mresult\u001b[0m \u001b[1;33m=\u001b[0m \u001b[1;33m[\u001b[0m\u001b[0mx\u001b[0m\u001b[1;33m+\u001b[0m\u001b[1;33m[\u001b[0m\u001b[0my\u001b[0m\u001b[1;33m]\u001b[0m \u001b[1;32mfor\u001b[0m \u001b[0mx\u001b[0m \u001b[1;32min\u001b[0m \u001b[0mresult\u001b[0m \u001b[1;32mfor\u001b[0m \u001b[0my\u001b[0m \u001b[1;32min\u001b[0m \u001b[0mpool\u001b[0m \u001b[1;32mif\u001b[0m \u001b[0mis_partially_possible\u001b[0m\u001b[1;33m(\u001b[0m\u001b[0mx\u001b[0m\u001b[1;33m+\u001b[0m\u001b[1;33m[\u001b[0m\u001b[0my\u001b[0m\u001b[1;33m]\u001b[0m\u001b[1;33m,\u001b[0m \u001b[0mmatchmaking_matrix\u001b[0m\u001b[1;33m)\u001b[0m\u001b[1;33m]\u001b[0m\u001b[1;33m\u001b[0m\u001b[1;33m\u001b[0m\u001b[0m\n\u001b[0m",
      "\u001b[1;32m<ipython-input-50-4e2af2458ad4>\u001b[0m in \u001b[0;36m<listcomp>\u001b[1;34m(.0)\u001b[0m\n\u001b[0;32m      4\u001b[0m \u001b[1;33m\u001b[0m\u001b[0m\n\u001b[0;32m      5\u001b[0m \u001b[1;32mfor\u001b[0m \u001b[0mpool\u001b[0m \u001b[1;32min\u001b[0m \u001b[0mpools\u001b[0m\u001b[1;33m[\u001b[0m\u001b[1;33m:\u001b[0m\u001b[1;36m7\u001b[0m\u001b[1;33m]\u001b[0m\u001b[1;33m:\u001b[0m\u001b[1;33m\u001b[0m\u001b[1;33m\u001b[0m\u001b[0m\n\u001b[1;32m----> 6\u001b[1;33m     \u001b[0mresult\u001b[0m \u001b[1;33m=\u001b[0m \u001b[1;33m[\u001b[0m\u001b[0mx\u001b[0m\u001b[1;33m+\u001b[0m\u001b[1;33m[\u001b[0m\u001b[0my\u001b[0m\u001b[1;33m]\u001b[0m \u001b[1;32mfor\u001b[0m \u001b[0mx\u001b[0m \u001b[1;32min\u001b[0m \u001b[0mresult\u001b[0m \u001b[1;32mfor\u001b[0m \u001b[0my\u001b[0m \u001b[1;32min\u001b[0m \u001b[0mpool\u001b[0m \u001b[1;32mif\u001b[0m \u001b[0mis_partially_possible\u001b[0m\u001b[1;33m(\u001b[0m\u001b[0mx\u001b[0m\u001b[1;33m+\u001b[0m\u001b[1;33m[\u001b[0m\u001b[0my\u001b[0m\u001b[1;33m]\u001b[0m\u001b[1;33m,\u001b[0m \u001b[0mmatchmaking_matrix\u001b[0m\u001b[1;33m)\u001b[0m\u001b[1;33m]\u001b[0m\u001b[1;33m\u001b[0m\u001b[1;33m\u001b[0m\u001b[0m\n\u001b[0m",
      "\u001b[1;32m<ipython-input-49-db53033ff8cf>\u001b[0m in \u001b[0;36mis_partially_possible\u001b[1;34m(selected_matches, matchmaking_matrix)\u001b[0m\n\u001b[0;32m     14\u001b[0m     \u001b[0mnew_possible_opponents\u001b[0m \u001b[1;33m=\u001b[0m \u001b[0mget_possible_opponents\u001b[0m\u001b[1;33m(\u001b[0m\u001b[0mmm_matrix\u001b[0m\u001b[1;33m)\u001b[0m\u001b[1;33m\u001b[0m\u001b[1;33m\u001b[0m\u001b[0m\n\u001b[0;32m     15\u001b[0m \u001b[1;33m\u001b[0m\u001b[0m\n\u001b[1;32m---> 16\u001b[1;33m     \u001b[0mstill_possible\u001b[0m \u001b[1;33m=\u001b[0m \u001b[0mcheck_if_still_possible\u001b[0m\u001b[1;33m(\u001b[0m\u001b[0mnew_player_match_count\u001b[0m\u001b[1;33m,\u001b[0m \u001b[0mnew_possible_opponents\u001b[0m\u001b[1;33m,\u001b[0m \u001b[0mmatches_per_round\u001b[0m\u001b[1;33m)\u001b[0m\u001b[1;33m\u001b[0m\u001b[1;33m\u001b[0m\u001b[0m\n\u001b[0m\u001b[0;32m     17\u001b[0m     \u001b[1;32mreturn\u001b[0m \u001b[0mstill_possible\u001b[0m\u001b[1;33m\u001b[0m\u001b[1;33m\u001b[0m\u001b[0m\n",
      "\u001b[1;32m<ipython-input-10-88433011373e>\u001b[0m in \u001b[0;36mcheck_if_still_possible\u001b[1;34m(player_match_count, possible_opponents, matches_per_round)\u001b[0m\n\u001b[0;32m      1\u001b[0m \u001b[1;32mdef\u001b[0m \u001b[0mcheck_if_still_possible\u001b[0m\u001b[1;33m(\u001b[0m\u001b[0mplayer_match_count\u001b[0m\u001b[1;33m,\u001b[0m \u001b[0mpossible_opponents\u001b[0m\u001b[1;33m,\u001b[0m \u001b[0mmatches_per_round\u001b[0m\u001b[1;33m)\u001b[0m\u001b[1;33m:\u001b[0m\u001b[1;33m\u001b[0m\u001b[1;33m\u001b[0m\u001b[0m\n\u001b[0;32m      2\u001b[0m     \u001b[0mpossible_opponents_count\u001b[0m \u001b[1;33m=\u001b[0m \u001b[1;33m[\u001b[0m\u001b[0mlen\u001b[0m\u001b[1;33m(\u001b[0m\u001b[0mpossible_opponents\u001b[0m\u001b[1;33m)\u001b[0m \u001b[1;32mfor\u001b[0m \u001b[0mp\u001b[0m \u001b[1;32min\u001b[0m \u001b[0mpossible_opponents\u001b[0m\u001b[1;33m]\u001b[0m\u001b[1;33m\u001b[0m\u001b[1;33m\u001b[0m\u001b[0m\n\u001b[1;32m----> 3\u001b[1;33m     \u001b[0mopen_opponents_diff\u001b[0m \u001b[1;33m=\u001b[0m \u001b[0mnp\u001b[0m\u001b[1;33m.\u001b[0m\u001b[0marray\u001b[0m\u001b[1;33m(\u001b[0m\u001b[0mpossible_opponents_count\u001b[0m\u001b[1;33m)\u001b[0m \u001b[1;33m-\u001b[0m \u001b[1;33m(\u001b[0m\u001b[0mmatches_per_round\u001b[0m \u001b[1;33m-\u001b[0m \u001b[0mnp\u001b[0m\u001b[1;33m.\u001b[0m\u001b[0marray\u001b[0m\u001b[1;33m(\u001b[0m\u001b[0mplayer_match_count\u001b[0m\u001b[1;33m)\u001b[0m\u001b[1;33m)\u001b[0m\u001b[1;33m\u001b[0m\u001b[1;33m\u001b[0m\u001b[0m\n\u001b[0m\u001b[0;32m      4\u001b[0m \u001b[1;33m\u001b[0m\u001b[0m\n\u001b[0;32m      5\u001b[0m     \u001b[0mnot_enough_open_possibilities\u001b[0m \u001b[1;33m=\u001b[0m \u001b[0mnp\u001b[0m\u001b[1;33m.\u001b[0m\u001b[0mmin\u001b[0m\u001b[1;33m(\u001b[0m\u001b[0mopen_opponents_diff\u001b[0m\u001b[1;33m)\u001b[0m \u001b[1;33m<\u001b[0m \u001b[1;36m0\u001b[0m\u001b[1;33m\u001b[0m\u001b[1;33m\u001b[0m\u001b[0m\n",
      "\u001b[1;31mKeyboardInterrupt\u001b[0m: "
     ]
    }
   ],
   "source": [
    "result = [[]]\n",
    "\n",
    "count = 0\n",
    "\n",
    "for pool in pools[:7]:\n",
    "    result = [x+[y] for x in result for y in pool if is_partially_possible(x+[y], matchmaking_matrix)]    "
   ]
  },
  {
   "cell_type": "code",
   "execution_count": 44,
   "id": "headed-stephen",
   "metadata": {},
   "outputs": [
    {
     "data": {
      "text/plain": [
       "1803312"
      ]
     },
     "execution_count": 44,
     "metadata": {},
     "output_type": "execute_result"
    }
   ],
   "source": [
    "len(result)"
   ]
  },
  {
   "cell_type": "code",
   "execution_count": 48,
   "id": "surprised-champion",
   "metadata": {},
   "outputs": [
    {
     "data": {
      "text/plain": [
       "[[3, 4, 7, 7, 9, 8, 2],\n",
       " [3, 4, 7, 7, 9, 8, 5],\n",
       " [3, 4, 7, 7, 9, 8, 9],\n",
       " [3, 4, 7, 7, 9, 8, 10],\n",
       " [3, 4, 7, 7, 9, 8, 11],\n",
       " [3, 4, 7, 7, 9, 9, 0]]"
      ]
     },
     "execution_count": 48,
     "metadata": {},
     "output_type": "execute_result"
    }
   ],
   "source": [
    "result[5412:5418]"
   ]
  },
  {
   "cell_type": "code",
   "execution_count": 29,
   "id": "touched-directory",
   "metadata": {},
   "outputs": [
    {
     "data": {
      "text/plain": [
       "[[3, 4, 5, 6, 7, 8, 9, 10, 11],\n",
       " [3, 4, 5, 6, 7, 8, 9, 10, 11],\n",
       " [3, 4, 5, 6, 7, 8, 9, 10, 11],\n",
       " [0, 1, 2, 6, 7, 8, 9, 10, 11],\n",
       " [0, 1, 2, 6, 7, 8, 9, 10, 11],\n",
       " [0, 1, 2, 6, 7, 8, 9, 10, 11],\n",
       " [0, 1, 2, 3, 4, 5, 9, 10, 11],\n",
       " [0, 1, 2, 3, 4, 5, 9, 10, 11],\n",
       " [0, 1, 2, 3, 4, 5, 9, 10, 11],\n",
       " [0, 1, 2, 3, 4, 5, 6, 7, 8],\n",
       " [0, 1, 2, 3, 4, 5, 6, 7, 8],\n",
       " [0, 1, 2, 3, 4, 5, 6, 7, 8]]"
      ]
     },
     "execution_count": 29,
     "metadata": {},
     "output_type": "execute_result"
    }
   ],
   "source": [
    "possible_opponents"
   ]
  },
  {
   "cell_type": "code",
   "execution_count": 55,
   "id": "innocent-matter",
   "metadata": {},
   "outputs": [
    {
     "name": "stdout",
     "output_type": "stream",
     "text": [
      "81\n",
      "(3, 3)\n"
     ]
    }
   ],
   "source": [
    "possible_combinations = list(itertools.product(*possible_opponents[:2]))\n",
    "print(len(possible_combinations))\n",
    "print(possible_combinations[0])"
   ]
  },
  {
   "cell_type": "code",
   "execution_count": null,
   "id": "proper-punch",
   "metadata": {},
   "outputs": [],
   "source": [
    "P_ID = 0\n",
    "O_ID = 0\n",
    "\n",
    "matchmaking_matrix[P_ID, possible_opponents[P_ID][O_ID]] = 1\n",
    "matchmaking_matrix[possible_opponents[P_ID][O_ID], P_ID] = 1\n",
    "\n",
    "new_player_match_count = get_player_match_count(matchmaking_matrix)\n",
    "new_possible_opponents = get_possible_opponents(matchmaking_matrix)\n",
    "\n",
    "still_possible = check_if_still_possible(new_player_match_count, new_possible_opponents, matches_per_round)"
   ]
  },
  {
   "cell_type": "code",
   "execution_count": null,
   "id": "accomplished-movie",
   "metadata": {},
   "outputs": [],
   "source": [
    "print(new_player_match_count)\n",
    "print(new_possible_opponents)\n",
    "print(still_possible)"
   ]
  },
  {
   "cell_type": "code",
   "execution_count": null,
   "id": "legal-sector",
   "metadata": {},
   "outputs": [],
   "source": []
  }
 ],
 "metadata": {
  "kernelspec": {
   "display_name": "local-venv",
   "language": "python",
   "name": "local-venv"
  },
  "language_info": {
   "codemirror_mode": {
    "name": "ipython",
    "version": 3
   },
   "file_extension": ".py",
   "mimetype": "text/x-python",
   "name": "python",
   "nbconvert_exporter": "python",
   "pygments_lexer": "ipython3",
   "version": "3.8.8"
  }
 },
 "nbformat": 4,
 "nbformat_minor": 5
}
